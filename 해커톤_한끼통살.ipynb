{
  "nbformat": 4,
  "nbformat_minor": 0,
  "metadata": {
    "colab": {
      "provenance": [],
      "include_colab_link": true
    },
    "kernelspec": {
      "name": "python3",
      "display_name": "Python 3"
    },
    "language_info": {
      "name": "python"
    }
  },
  "cells": [
    {
      "cell_type": "markdown",
      "metadata": {
        "id": "view-in-github",
        "colab_type": "text"
      },
      "source": [
        "<a href=\"https://colab.research.google.com/github/sumin2eee/cj-hackathon/blob/main/%ED%95%B4%EC%BB%A4%ED%86%A4_%ED%95%9C%EB%81%BC%ED%86%B5%EC%82%B4.ipynb\" target=\"_parent\"><img src=\"https://colab.research.google.com/assets/colab-badge.svg\" alt=\"Open In Colab\"/></a>"
      ]
    },
    {
      "cell_type": "markdown",
      "source": [
        "# 전처리"
      ],
      "metadata": {
        "id": "26QTS6iY0Nfh"
      }
    },
    {
      "cell_type": "markdown",
      "source": [
        "**0) 라이브러리 함수**"
      ],
      "metadata": {
        "id": "_CarjrarybDG"
      }
    },
    {
      "cell_type": "code",
      "execution_count": null,
      "metadata": {
        "colab": {
          "base_uri": "https://localhost:8080/"
        },
        "id": "D_0-OV-fio-Y",
        "outputId": "bd88326d-1d7d-4304-f431-732f9cd21688"
      },
      "outputs": [
        {
          "output_type": "stream",
          "name": "stdout",
          "text": [
            "Collecting konlpy\n",
            "  Downloading konlpy-0.6.0-py2.py3-none-any.whl (19.4 MB)\n",
            "\u001b[2K     \u001b[90m━━━━━━━━━━━━━━━━━━━━━━━━━━━━━━━━━━━━━━━━\u001b[0m \u001b[32m19.4/19.4 MB\u001b[0m \u001b[31m60.0 MB/s\u001b[0m eta \u001b[36m0:00:00\u001b[0m\n",
            "\u001b[?25hCollecting JPype1>=0.7.0 (from konlpy)\n",
            "  Downloading JPype1-1.4.1-cp310-cp310-manylinux_2_12_x86_64.manylinux2010_x86_64.whl (465 kB)\n",
            "\u001b[2K     \u001b[90m━━━━━━━━━━━━━━━━━━━━━━━━━━━━━━━━━━━━━━━━\u001b[0m \u001b[32m465.3/465.3 kB\u001b[0m \u001b[31m49.0 MB/s\u001b[0m eta \u001b[36m0:00:00\u001b[0m\n",
            "\u001b[?25hRequirement already satisfied: lxml>=4.1.0 in /usr/local/lib/python3.10/dist-packages (from konlpy) (4.9.3)\n",
            "Requirement already satisfied: numpy>=1.6 in /usr/local/lib/python3.10/dist-packages (from konlpy) (1.23.5)\n",
            "Requirement already satisfied: packaging in /usr/local/lib/python3.10/dist-packages (from JPype1>=0.7.0->konlpy) (23.2)\n",
            "Installing collected packages: JPype1, konlpy\n",
            "Successfully installed JPype1-1.4.1 konlpy-0.6.0\n"
          ]
        }
      ],
      "source": [
        "!pip install konlpy\n",
        "\n",
        "import re\n",
        "import pandas as pd\n",
        "import numpy as np\n",
        "import matplotlib.pyplot as plt\n",
        "import urllib.request\n",
        "from collections import Counter\n",
        "from konlpy.tag import Okt\n",
        "from sklearn.model_selection import train_test_split\n",
        "from tensorflow.keras.preprocessing.text import Tokenizer\n",
        "from tensorflow.keras.preprocessing.sequence import pad_sequences\n",
        "\n",
        "okt= Okt()"
      ]
    },
    {
      "cell_type": "markdown",
      "source": [
        "**1) 데이터 로드**"
      ],
      "metadata": {
        "id": "iqYVana1ynJH"
      }
    },
    {
      "cell_type": "code",
      "source": [
        "df=pd.read_csv('/content/hanggitongsalfinal.csv', encoding='utf-8')\n",
        "df=df.dropna(axis = 0)\n",
        "df"
      ],
      "metadata": {
        "colab": {
          "base_uri": "https://localhost:8080/",
          "height": 424
        },
        "id": "1iTfBez3w3xn",
        "outputId": "341c2ee1-5951-44cc-9c0a-15bbc0a24559"
      },
      "execution_count": null,
      "outputs": [
        {
          "output_type": "execute_result",
          "data": {
            "text/plain": [
              "      ratings                                            reviews\n",
              "0           5                                        가격대비 맛있습니다.\n",
              "1           5                                        가격대비 맛있습니다.\n",
              "2           5                                     포장도좋고 신선도도 좋아요\n",
              "3           5                                        가격대비 만족합니다.\n",
              "4           5  저 죄송한데 이거 왜 맛있어요?... 지금까지 닭가슴살의 편견이 엎어져서 저 지금 ...\n",
              "...       ...                                                ...\n",
              "1184        3                                        양념이 잘새는거같아요\n",
              "1185        3                                   택배왔을때 양념이 터져있었어요\n",
              "1186        3                                       안에 양념새는게좀있네요\n",
              "1187        3    소스맛은 나쁘지않고 괜찮습니다.\\n청양깻잎은 좀 퍽퍽하긴한데 \\n가격대비 괜찮습니다~\n",
              "1188        3                                 소스제대로  안뿌려진게 좀 있네요\n",
              "\n",
              "[1189 rows x 2 columns]"
            ],
            "text/html": [
              "\n",
              "  <div id=\"df-1e94502d-6560-405f-8cdd-dc68cfad8577\" class=\"colab-df-container\">\n",
              "    <div>\n",
              "<style scoped>\n",
              "    .dataframe tbody tr th:only-of-type {\n",
              "        vertical-align: middle;\n",
              "    }\n",
              "\n",
              "    .dataframe tbody tr th {\n",
              "        vertical-align: top;\n",
              "    }\n",
              "\n",
              "    .dataframe thead th {\n",
              "        text-align: right;\n",
              "    }\n",
              "</style>\n",
              "<table border=\"1\" class=\"dataframe\">\n",
              "  <thead>\n",
              "    <tr style=\"text-align: right;\">\n",
              "      <th></th>\n",
              "      <th>ratings</th>\n",
              "      <th>reviews</th>\n",
              "    </tr>\n",
              "  </thead>\n",
              "  <tbody>\n",
              "    <tr>\n",
              "      <th>0</th>\n",
              "      <td>5</td>\n",
              "      <td>가격대비 맛있습니다.</td>\n",
              "    </tr>\n",
              "    <tr>\n",
              "      <th>1</th>\n",
              "      <td>5</td>\n",
              "      <td>가격대비 맛있습니다.</td>\n",
              "    </tr>\n",
              "    <tr>\n",
              "      <th>2</th>\n",
              "      <td>5</td>\n",
              "      <td>포장도좋고 신선도도 좋아요</td>\n",
              "    </tr>\n",
              "    <tr>\n",
              "      <th>3</th>\n",
              "      <td>5</td>\n",
              "      <td>가격대비 만족합니다.</td>\n",
              "    </tr>\n",
              "    <tr>\n",
              "      <th>4</th>\n",
              "      <td>5</td>\n",
              "      <td>저 죄송한데 이거 왜 맛있어요?... 지금까지 닭가슴살의 편견이 엎어져서 저 지금 ...</td>\n",
              "    </tr>\n",
              "    <tr>\n",
              "      <th>...</th>\n",
              "      <td>...</td>\n",
              "      <td>...</td>\n",
              "    </tr>\n",
              "    <tr>\n",
              "      <th>1184</th>\n",
              "      <td>3</td>\n",
              "      <td>양념이 잘새는거같아요</td>\n",
              "    </tr>\n",
              "    <tr>\n",
              "      <th>1185</th>\n",
              "      <td>3</td>\n",
              "      <td>택배왔을때 양념이 터져있었어요</td>\n",
              "    </tr>\n",
              "    <tr>\n",
              "      <th>1186</th>\n",
              "      <td>3</td>\n",
              "      <td>안에 양념새는게좀있네요</td>\n",
              "    </tr>\n",
              "    <tr>\n",
              "      <th>1187</th>\n",
              "      <td>3</td>\n",
              "      <td>소스맛은 나쁘지않고 괜찮습니다.\\n청양깻잎은 좀 퍽퍽하긴한데 \\n가격대비 괜찮습니다~</td>\n",
              "    </tr>\n",
              "    <tr>\n",
              "      <th>1188</th>\n",
              "      <td>3</td>\n",
              "      <td>소스제대로  안뿌려진게 좀 있네요</td>\n",
              "    </tr>\n",
              "  </tbody>\n",
              "</table>\n",
              "<p>1189 rows × 2 columns</p>\n",
              "</div>\n",
              "    <div class=\"colab-df-buttons\">\n",
              "\n",
              "  <div class=\"colab-df-container\">\n",
              "    <button class=\"colab-df-convert\" onclick=\"convertToInteractive('df-1e94502d-6560-405f-8cdd-dc68cfad8577')\"\n",
              "            title=\"Convert this dataframe to an interactive table.\"\n",
              "            style=\"display:none;\">\n",
              "\n",
              "  <svg xmlns=\"http://www.w3.org/2000/svg\" height=\"24px\" viewBox=\"0 -960 960 960\">\n",
              "    <path d=\"M120-120v-720h720v720H120Zm60-500h600v-160H180v160Zm220 220h160v-160H400v160Zm0 220h160v-160H400v160ZM180-400h160v-160H180v160Zm440 0h160v-160H620v160ZM180-180h160v-160H180v160Zm440 0h160v-160H620v160Z\"/>\n",
              "  </svg>\n",
              "    </button>\n",
              "\n",
              "  <style>\n",
              "    .colab-df-container {\n",
              "      display:flex;\n",
              "      gap: 12px;\n",
              "    }\n",
              "\n",
              "    .colab-df-convert {\n",
              "      background-color: #E8F0FE;\n",
              "      border: none;\n",
              "      border-radius: 50%;\n",
              "      cursor: pointer;\n",
              "      display: none;\n",
              "      fill: #1967D2;\n",
              "      height: 32px;\n",
              "      padding: 0 0 0 0;\n",
              "      width: 32px;\n",
              "    }\n",
              "\n",
              "    .colab-df-convert:hover {\n",
              "      background-color: #E2EBFA;\n",
              "      box-shadow: 0px 1px 2px rgba(60, 64, 67, 0.3), 0px 1px 3px 1px rgba(60, 64, 67, 0.15);\n",
              "      fill: #174EA6;\n",
              "    }\n",
              "\n",
              "    .colab-df-buttons div {\n",
              "      margin-bottom: 4px;\n",
              "    }\n",
              "\n",
              "    [theme=dark] .colab-df-convert {\n",
              "      background-color: #3B4455;\n",
              "      fill: #D2E3FC;\n",
              "    }\n",
              "\n",
              "    [theme=dark] .colab-df-convert:hover {\n",
              "      background-color: #434B5C;\n",
              "      box-shadow: 0px 1px 3px 1px rgba(0, 0, 0, 0.15);\n",
              "      filter: drop-shadow(0px 1px 2px rgba(0, 0, 0, 0.3));\n",
              "      fill: #FFFFFF;\n",
              "    }\n",
              "  </style>\n",
              "\n",
              "    <script>\n",
              "      const buttonEl =\n",
              "        document.querySelector('#df-1e94502d-6560-405f-8cdd-dc68cfad8577 button.colab-df-convert');\n",
              "      buttonEl.style.display =\n",
              "        google.colab.kernel.accessAllowed ? 'block' : 'none';\n",
              "\n",
              "      async function convertToInteractive(key) {\n",
              "        const element = document.querySelector('#df-1e94502d-6560-405f-8cdd-dc68cfad8577');\n",
              "        const dataTable =\n",
              "          await google.colab.kernel.invokeFunction('convertToInteractive',\n",
              "                                                    [key], {});\n",
              "        if (!dataTable) return;\n",
              "\n",
              "        const docLinkHtml = 'Like what you see? Visit the ' +\n",
              "          '<a target=\"_blank\" href=https://colab.research.google.com/notebooks/data_table.ipynb>data table notebook</a>'\n",
              "          + ' to learn more about interactive tables.';\n",
              "        element.innerHTML = '';\n",
              "        dataTable['output_type'] = 'display_data';\n",
              "        await google.colab.output.renderOutput(dataTable, element);\n",
              "        const docLink = document.createElement('div');\n",
              "        docLink.innerHTML = docLinkHtml;\n",
              "        element.appendChild(docLink);\n",
              "      }\n",
              "    </script>\n",
              "  </div>\n",
              "\n",
              "\n",
              "<div id=\"df-fd357d60-6050-4c28-b329-523c6a79e983\">\n",
              "  <button class=\"colab-df-quickchart\" onclick=\"quickchart('df-fd357d60-6050-4c28-b329-523c6a79e983')\"\n",
              "            title=\"Suggest charts.\"\n",
              "            style=\"display:none;\">\n",
              "\n",
              "<svg xmlns=\"http://www.w3.org/2000/svg\" height=\"24px\"viewBox=\"0 0 24 24\"\n",
              "     width=\"24px\">\n",
              "    <g>\n",
              "        <path d=\"M19 3H5c-1.1 0-2 .9-2 2v14c0 1.1.9 2 2 2h14c1.1 0 2-.9 2-2V5c0-1.1-.9-2-2-2zM9 17H7v-7h2v7zm4 0h-2V7h2v10zm4 0h-2v-4h2v4z\"/>\n",
              "    </g>\n",
              "</svg>\n",
              "  </button>\n",
              "\n",
              "<style>\n",
              "  .colab-df-quickchart {\n",
              "      --bg-color: #E8F0FE;\n",
              "      --fill-color: #1967D2;\n",
              "      --hover-bg-color: #E2EBFA;\n",
              "      --hover-fill-color: #174EA6;\n",
              "      --disabled-fill-color: #AAA;\n",
              "      --disabled-bg-color: #DDD;\n",
              "  }\n",
              "\n",
              "  [theme=dark] .colab-df-quickchart {\n",
              "      --bg-color: #3B4455;\n",
              "      --fill-color: #D2E3FC;\n",
              "      --hover-bg-color: #434B5C;\n",
              "      --hover-fill-color: #FFFFFF;\n",
              "      --disabled-bg-color: #3B4455;\n",
              "      --disabled-fill-color: #666;\n",
              "  }\n",
              "\n",
              "  .colab-df-quickchart {\n",
              "    background-color: var(--bg-color);\n",
              "    border: none;\n",
              "    border-radius: 50%;\n",
              "    cursor: pointer;\n",
              "    display: none;\n",
              "    fill: var(--fill-color);\n",
              "    height: 32px;\n",
              "    padding: 0;\n",
              "    width: 32px;\n",
              "  }\n",
              "\n",
              "  .colab-df-quickchart:hover {\n",
              "    background-color: var(--hover-bg-color);\n",
              "    box-shadow: 0 1px 2px rgba(60, 64, 67, 0.3), 0 1px 3px 1px rgba(60, 64, 67, 0.15);\n",
              "    fill: var(--button-hover-fill-color);\n",
              "  }\n",
              "\n",
              "  .colab-df-quickchart-complete:disabled,\n",
              "  .colab-df-quickchart-complete:disabled:hover {\n",
              "    background-color: var(--disabled-bg-color);\n",
              "    fill: var(--disabled-fill-color);\n",
              "    box-shadow: none;\n",
              "  }\n",
              "\n",
              "  .colab-df-spinner {\n",
              "    border: 2px solid var(--fill-color);\n",
              "    border-color: transparent;\n",
              "    border-bottom-color: var(--fill-color);\n",
              "    animation:\n",
              "      spin 1s steps(1) infinite;\n",
              "  }\n",
              "\n",
              "  @keyframes spin {\n",
              "    0% {\n",
              "      border-color: transparent;\n",
              "      border-bottom-color: var(--fill-color);\n",
              "      border-left-color: var(--fill-color);\n",
              "    }\n",
              "    20% {\n",
              "      border-color: transparent;\n",
              "      border-left-color: var(--fill-color);\n",
              "      border-top-color: var(--fill-color);\n",
              "    }\n",
              "    30% {\n",
              "      border-color: transparent;\n",
              "      border-left-color: var(--fill-color);\n",
              "      border-top-color: var(--fill-color);\n",
              "      border-right-color: var(--fill-color);\n",
              "    }\n",
              "    40% {\n",
              "      border-color: transparent;\n",
              "      border-right-color: var(--fill-color);\n",
              "      border-top-color: var(--fill-color);\n",
              "    }\n",
              "    60% {\n",
              "      border-color: transparent;\n",
              "      border-right-color: var(--fill-color);\n",
              "    }\n",
              "    80% {\n",
              "      border-color: transparent;\n",
              "      border-right-color: var(--fill-color);\n",
              "      border-bottom-color: var(--fill-color);\n",
              "    }\n",
              "    90% {\n",
              "      border-color: transparent;\n",
              "      border-bottom-color: var(--fill-color);\n",
              "    }\n",
              "  }\n",
              "</style>\n",
              "\n",
              "  <script>\n",
              "    async function quickchart(key) {\n",
              "      const quickchartButtonEl =\n",
              "        document.querySelector('#' + key + ' button');\n",
              "      quickchartButtonEl.disabled = true;  // To prevent multiple clicks.\n",
              "      quickchartButtonEl.classList.add('colab-df-spinner');\n",
              "      try {\n",
              "        const charts = await google.colab.kernel.invokeFunction(\n",
              "            'suggestCharts', [key], {});\n",
              "      } catch (error) {\n",
              "        console.error('Error during call to suggestCharts:', error);\n",
              "      }\n",
              "      quickchartButtonEl.classList.remove('colab-df-spinner');\n",
              "      quickchartButtonEl.classList.add('colab-df-quickchart-complete');\n",
              "    }\n",
              "    (() => {\n",
              "      let quickchartButtonEl =\n",
              "        document.querySelector('#df-fd357d60-6050-4c28-b329-523c6a79e983 button');\n",
              "      quickchartButtonEl.style.display =\n",
              "        google.colab.kernel.accessAllowed ? 'block' : 'none';\n",
              "    })();\n",
              "  </script>\n",
              "</div>\n",
              "    </div>\n",
              "  </div>\n"
            ]
          },
          "metadata": {},
          "execution_count": 2
        }
      ]
    },
    {
      "cell_type": "markdown",
      "source": [
        "**2) 훈련 데이터와 테스트 데이터 분리**"
      ],
      "metadata": {
        "id": "IiUFSTzDyvST"
      }
    },
    {
      "cell_type": "code",
      "source": [
        "df['label'] = np.select([df.ratings > 3], [1], default=0) # 평점으로 레이블 부여\n",
        "df"
      ],
      "metadata": {
        "colab": {
          "base_uri": "https://localhost:8080/",
          "height": 424
        },
        "id": "uwBfkpk7ip6A",
        "outputId": "a9da6f79-6121-48e6-b7b9-bf5247ba65d3"
      },
      "execution_count": null,
      "outputs": [
        {
          "output_type": "execute_result",
          "data": {
            "text/plain": [
              "      ratings                                            reviews  label\n",
              "0           5                                        가격대비 맛있습니다.      1\n",
              "1           5                                        가격대비 맛있습니다.      1\n",
              "2           5                                     포장도좋고 신선도도 좋아요      1\n",
              "3           5                                        가격대비 만족합니다.      1\n",
              "4           5  저 죄송한데 이거 왜 맛있어요?... 지금까지 닭가슴살의 편견이 엎어져서 저 지금 ...      1\n",
              "...       ...                                                ...    ...\n",
              "1184        3                                        양념이 잘새는거같아요      0\n",
              "1185        3                                   택배왔을때 양념이 터져있었어요      0\n",
              "1186        3                                       안에 양념새는게좀있네요      0\n",
              "1187        3    소스맛은 나쁘지않고 괜찮습니다.\\n청양깻잎은 좀 퍽퍽하긴한데 \\n가격대비 괜찮습니다~      0\n",
              "1188        3                                 소스제대로  안뿌려진게 좀 있네요      0\n",
              "\n",
              "[1189 rows x 3 columns]"
            ],
            "text/html": [
              "\n",
              "  <div id=\"df-6f9a7b3f-be03-4579-9838-73ea49286c6e\" class=\"colab-df-container\">\n",
              "    <div>\n",
              "<style scoped>\n",
              "    .dataframe tbody tr th:only-of-type {\n",
              "        vertical-align: middle;\n",
              "    }\n",
              "\n",
              "    .dataframe tbody tr th {\n",
              "        vertical-align: top;\n",
              "    }\n",
              "\n",
              "    .dataframe thead th {\n",
              "        text-align: right;\n",
              "    }\n",
              "</style>\n",
              "<table border=\"1\" class=\"dataframe\">\n",
              "  <thead>\n",
              "    <tr style=\"text-align: right;\">\n",
              "      <th></th>\n",
              "      <th>ratings</th>\n",
              "      <th>reviews</th>\n",
              "      <th>label</th>\n",
              "    </tr>\n",
              "  </thead>\n",
              "  <tbody>\n",
              "    <tr>\n",
              "      <th>0</th>\n",
              "      <td>5</td>\n",
              "      <td>가격대비 맛있습니다.</td>\n",
              "      <td>1</td>\n",
              "    </tr>\n",
              "    <tr>\n",
              "      <th>1</th>\n",
              "      <td>5</td>\n",
              "      <td>가격대비 맛있습니다.</td>\n",
              "      <td>1</td>\n",
              "    </tr>\n",
              "    <tr>\n",
              "      <th>2</th>\n",
              "      <td>5</td>\n",
              "      <td>포장도좋고 신선도도 좋아요</td>\n",
              "      <td>1</td>\n",
              "    </tr>\n",
              "    <tr>\n",
              "      <th>3</th>\n",
              "      <td>5</td>\n",
              "      <td>가격대비 만족합니다.</td>\n",
              "      <td>1</td>\n",
              "    </tr>\n",
              "    <tr>\n",
              "      <th>4</th>\n",
              "      <td>5</td>\n",
              "      <td>저 죄송한데 이거 왜 맛있어요?... 지금까지 닭가슴살의 편견이 엎어져서 저 지금 ...</td>\n",
              "      <td>1</td>\n",
              "    </tr>\n",
              "    <tr>\n",
              "      <th>...</th>\n",
              "      <td>...</td>\n",
              "      <td>...</td>\n",
              "      <td>...</td>\n",
              "    </tr>\n",
              "    <tr>\n",
              "      <th>1184</th>\n",
              "      <td>3</td>\n",
              "      <td>양념이 잘새는거같아요</td>\n",
              "      <td>0</td>\n",
              "    </tr>\n",
              "    <tr>\n",
              "      <th>1185</th>\n",
              "      <td>3</td>\n",
              "      <td>택배왔을때 양념이 터져있었어요</td>\n",
              "      <td>0</td>\n",
              "    </tr>\n",
              "    <tr>\n",
              "      <th>1186</th>\n",
              "      <td>3</td>\n",
              "      <td>안에 양념새는게좀있네요</td>\n",
              "      <td>0</td>\n",
              "    </tr>\n",
              "    <tr>\n",
              "      <th>1187</th>\n",
              "      <td>3</td>\n",
              "      <td>소스맛은 나쁘지않고 괜찮습니다.\\n청양깻잎은 좀 퍽퍽하긴한데 \\n가격대비 괜찮습니다~</td>\n",
              "      <td>0</td>\n",
              "    </tr>\n",
              "    <tr>\n",
              "      <th>1188</th>\n",
              "      <td>3</td>\n",
              "      <td>소스제대로  안뿌려진게 좀 있네요</td>\n",
              "      <td>0</td>\n",
              "    </tr>\n",
              "  </tbody>\n",
              "</table>\n",
              "<p>1189 rows × 3 columns</p>\n",
              "</div>\n",
              "    <div class=\"colab-df-buttons\">\n",
              "\n",
              "  <div class=\"colab-df-container\">\n",
              "    <button class=\"colab-df-convert\" onclick=\"convertToInteractive('df-6f9a7b3f-be03-4579-9838-73ea49286c6e')\"\n",
              "            title=\"Convert this dataframe to an interactive table.\"\n",
              "            style=\"display:none;\">\n",
              "\n",
              "  <svg xmlns=\"http://www.w3.org/2000/svg\" height=\"24px\" viewBox=\"0 -960 960 960\">\n",
              "    <path d=\"M120-120v-720h720v720H120Zm60-500h600v-160H180v160Zm220 220h160v-160H400v160Zm0 220h160v-160H400v160ZM180-400h160v-160H180v160Zm440 0h160v-160H620v160ZM180-180h160v-160H180v160Zm440 0h160v-160H620v160Z\"/>\n",
              "  </svg>\n",
              "    </button>\n",
              "\n",
              "  <style>\n",
              "    .colab-df-container {\n",
              "      display:flex;\n",
              "      gap: 12px;\n",
              "    }\n",
              "\n",
              "    .colab-df-convert {\n",
              "      background-color: #E8F0FE;\n",
              "      border: none;\n",
              "      border-radius: 50%;\n",
              "      cursor: pointer;\n",
              "      display: none;\n",
              "      fill: #1967D2;\n",
              "      height: 32px;\n",
              "      padding: 0 0 0 0;\n",
              "      width: 32px;\n",
              "    }\n",
              "\n",
              "    .colab-df-convert:hover {\n",
              "      background-color: #E2EBFA;\n",
              "      box-shadow: 0px 1px 2px rgba(60, 64, 67, 0.3), 0px 1px 3px 1px rgba(60, 64, 67, 0.15);\n",
              "      fill: #174EA6;\n",
              "    }\n",
              "\n",
              "    .colab-df-buttons div {\n",
              "      margin-bottom: 4px;\n",
              "    }\n",
              "\n",
              "    [theme=dark] .colab-df-convert {\n",
              "      background-color: #3B4455;\n",
              "      fill: #D2E3FC;\n",
              "    }\n",
              "\n",
              "    [theme=dark] .colab-df-convert:hover {\n",
              "      background-color: #434B5C;\n",
              "      box-shadow: 0px 1px 3px 1px rgba(0, 0, 0, 0.15);\n",
              "      filter: drop-shadow(0px 1px 2px rgba(0, 0, 0, 0.3));\n",
              "      fill: #FFFFFF;\n",
              "    }\n",
              "  </style>\n",
              "\n",
              "    <script>\n",
              "      const buttonEl =\n",
              "        document.querySelector('#df-6f9a7b3f-be03-4579-9838-73ea49286c6e button.colab-df-convert');\n",
              "      buttonEl.style.display =\n",
              "        google.colab.kernel.accessAllowed ? 'block' : 'none';\n",
              "\n",
              "      async function convertToInteractive(key) {\n",
              "        const element = document.querySelector('#df-6f9a7b3f-be03-4579-9838-73ea49286c6e');\n",
              "        const dataTable =\n",
              "          await google.colab.kernel.invokeFunction('convertToInteractive',\n",
              "                                                    [key], {});\n",
              "        if (!dataTable) return;\n",
              "\n",
              "        const docLinkHtml = 'Like what you see? Visit the ' +\n",
              "          '<a target=\"_blank\" href=https://colab.research.google.com/notebooks/data_table.ipynb>data table notebook</a>'\n",
              "          + ' to learn more about interactive tables.';\n",
              "        element.innerHTML = '';\n",
              "        dataTable['output_type'] = 'display_data';\n",
              "        await google.colab.output.renderOutput(dataTable, element);\n",
              "        const docLink = document.createElement('div');\n",
              "        docLink.innerHTML = docLinkHtml;\n",
              "        element.appendChild(docLink);\n",
              "      }\n",
              "    </script>\n",
              "  </div>\n",
              "\n",
              "\n",
              "<div id=\"df-38200057-908f-427e-866a-ce75700eab31\">\n",
              "  <button class=\"colab-df-quickchart\" onclick=\"quickchart('df-38200057-908f-427e-866a-ce75700eab31')\"\n",
              "            title=\"Suggest charts.\"\n",
              "            style=\"display:none;\">\n",
              "\n",
              "<svg xmlns=\"http://www.w3.org/2000/svg\" height=\"24px\"viewBox=\"0 0 24 24\"\n",
              "     width=\"24px\">\n",
              "    <g>\n",
              "        <path d=\"M19 3H5c-1.1 0-2 .9-2 2v14c0 1.1.9 2 2 2h14c1.1 0 2-.9 2-2V5c0-1.1-.9-2-2-2zM9 17H7v-7h2v7zm4 0h-2V7h2v10zm4 0h-2v-4h2v4z\"/>\n",
              "    </g>\n",
              "</svg>\n",
              "  </button>\n",
              "\n",
              "<style>\n",
              "  .colab-df-quickchart {\n",
              "      --bg-color: #E8F0FE;\n",
              "      --fill-color: #1967D2;\n",
              "      --hover-bg-color: #E2EBFA;\n",
              "      --hover-fill-color: #174EA6;\n",
              "      --disabled-fill-color: #AAA;\n",
              "      --disabled-bg-color: #DDD;\n",
              "  }\n",
              "\n",
              "  [theme=dark] .colab-df-quickchart {\n",
              "      --bg-color: #3B4455;\n",
              "      --fill-color: #D2E3FC;\n",
              "      --hover-bg-color: #434B5C;\n",
              "      --hover-fill-color: #FFFFFF;\n",
              "      --disabled-bg-color: #3B4455;\n",
              "      --disabled-fill-color: #666;\n",
              "  }\n",
              "\n",
              "  .colab-df-quickchart {\n",
              "    background-color: var(--bg-color);\n",
              "    border: none;\n",
              "    border-radius: 50%;\n",
              "    cursor: pointer;\n",
              "    display: none;\n",
              "    fill: var(--fill-color);\n",
              "    height: 32px;\n",
              "    padding: 0;\n",
              "    width: 32px;\n",
              "  }\n",
              "\n",
              "  .colab-df-quickchart:hover {\n",
              "    background-color: var(--hover-bg-color);\n",
              "    box-shadow: 0 1px 2px rgba(60, 64, 67, 0.3), 0 1px 3px 1px rgba(60, 64, 67, 0.15);\n",
              "    fill: var(--button-hover-fill-color);\n",
              "  }\n",
              "\n",
              "  .colab-df-quickchart-complete:disabled,\n",
              "  .colab-df-quickchart-complete:disabled:hover {\n",
              "    background-color: var(--disabled-bg-color);\n",
              "    fill: var(--disabled-fill-color);\n",
              "    box-shadow: none;\n",
              "  }\n",
              "\n",
              "  .colab-df-spinner {\n",
              "    border: 2px solid var(--fill-color);\n",
              "    border-color: transparent;\n",
              "    border-bottom-color: var(--fill-color);\n",
              "    animation:\n",
              "      spin 1s steps(1) infinite;\n",
              "  }\n",
              "\n",
              "  @keyframes spin {\n",
              "    0% {\n",
              "      border-color: transparent;\n",
              "      border-bottom-color: var(--fill-color);\n",
              "      border-left-color: var(--fill-color);\n",
              "    }\n",
              "    20% {\n",
              "      border-color: transparent;\n",
              "      border-left-color: var(--fill-color);\n",
              "      border-top-color: var(--fill-color);\n",
              "    }\n",
              "    30% {\n",
              "      border-color: transparent;\n",
              "      border-left-color: var(--fill-color);\n",
              "      border-top-color: var(--fill-color);\n",
              "      border-right-color: var(--fill-color);\n",
              "    }\n",
              "    40% {\n",
              "      border-color: transparent;\n",
              "      border-right-color: var(--fill-color);\n",
              "      border-top-color: var(--fill-color);\n",
              "    }\n",
              "    60% {\n",
              "      border-color: transparent;\n",
              "      border-right-color: var(--fill-color);\n",
              "    }\n",
              "    80% {\n",
              "      border-color: transparent;\n",
              "      border-right-color: var(--fill-color);\n",
              "      border-bottom-color: var(--fill-color);\n",
              "    }\n",
              "    90% {\n",
              "      border-color: transparent;\n",
              "      border-bottom-color: var(--fill-color);\n",
              "    }\n",
              "  }\n",
              "</style>\n",
              "\n",
              "  <script>\n",
              "    async function quickchart(key) {\n",
              "      const quickchartButtonEl =\n",
              "        document.querySelector('#' + key + ' button');\n",
              "      quickchartButtonEl.disabled = true;  // To prevent multiple clicks.\n",
              "      quickchartButtonEl.classList.add('colab-df-spinner');\n",
              "      try {\n",
              "        const charts = await google.colab.kernel.invokeFunction(\n",
              "            'suggestCharts', [key], {});\n",
              "      } catch (error) {\n",
              "        console.error('Error during call to suggestCharts:', error);\n",
              "      }\n",
              "      quickchartButtonEl.classList.remove('colab-df-spinner');\n",
              "      quickchartButtonEl.classList.add('colab-df-quickchart-complete');\n",
              "    }\n",
              "    (() => {\n",
              "      let quickchartButtonEl =\n",
              "        document.querySelector('#df-38200057-908f-427e-866a-ce75700eab31 button');\n",
              "      quickchartButtonEl.style.display =\n",
              "        google.colab.kernel.accessAllowed ? 'block' : 'none';\n",
              "    })();\n",
              "  </script>\n",
              "</div>\n",
              "    </div>\n",
              "  </div>\n"
            ]
          },
          "metadata": {},
          "execution_count": 3
        }
      ]
    },
    {
      "cell_type": "code",
      "source": [
        "df['ratings'].nunique(), df['reviews'].nunique(), df['label'].nunique() # 중복을 제외한 샘플의 수 카운트"
      ],
      "metadata": {
        "colab": {
          "base_uri": "https://localhost:8080/"
        },
        "id": "n-w6f7SHwpwM",
        "outputId": "026ad98d-ef75-4ed2-d367-67250ea3def4"
      },
      "execution_count": null,
      "outputs": [
        {
          "output_type": "execute_result",
          "data": {
            "text/plain": [
              "(5, 735, 2)"
            ]
          },
          "metadata": {},
          "execution_count": 4
        }
      ]
    },
    {
      "cell_type": "code",
      "source": [
        "df.drop_duplicates(subset=['reviews'], inplace=True) # reviews 열에서 중복인 내용이 있다면 중복 제거\n",
        "print('총 샘플의 수 :',len(df))"
      ],
      "metadata": {
        "colab": {
          "base_uri": "https://localhost:8080/"
        },
        "id": "wWoSFG2DwqlR",
        "outputId": "ac7b4aba-0097-455f-898a-d731414c1b8c"
      },
      "execution_count": null,
      "outputs": [
        {
          "output_type": "stream",
          "name": "stdout",
          "text": [
            "총 샘플의 수 : 735\n"
          ]
        }
      ]
    },
    {
      "cell_type": "code",
      "source": [
        "print(df.isnull().values.any()) # null 값 유무 확인"
      ],
      "metadata": {
        "colab": {
          "base_uri": "https://localhost:8080/"
        },
        "id": "x8Ag1Ewhw_D7",
        "outputId": "5fa9ec44-a6ab-4b51-b400-ddb9daf6a3be"
      },
      "execution_count": null,
      "outputs": [
        {
          "output_type": "stream",
          "name": "stdout",
          "text": [
            "False\n"
          ]
        }
      ]
    },
    {
      "cell_type": "code",
      "source": [
        "train_data, test_data = train_test_split(df, test_size = 0.25, random_state = 42) # 훈련용, 테스트용 3:1 비율로 분리\n",
        "print('훈련용 리뷰의 개수 :', len(train_data))\n",
        "print('테스트용 리뷰의 개수 :', len(test_data))"
      ],
      "metadata": {
        "colab": {
          "base_uri": "https://localhost:8080/"
        },
        "id": "icbm5SsTw--8",
        "outputId": "493a858d-adf0-4d1f-a1ea-14a0b788344b"
      },
      "execution_count": null,
      "outputs": [
        {
          "output_type": "stream",
          "name": "stdout",
          "text": [
            "훈련용 리뷰의 개수 : 551\n",
            "테스트용 리뷰의 개수 : 184\n"
          ]
        }
      ]
    },
    {
      "cell_type": "markdown",
      "source": [
        "**3) 레이블의 분포 확인**"
      ],
      "metadata": {
        "id": "wx1LGPUBy9Di"
      }
    },
    {
      "cell_type": "code",
      "source": [
        "train_data['label'].value_counts().plot(kind = 'bar') # 훈련 데이터 레이블 분포 확인"
      ],
      "metadata": {
        "colab": {
          "base_uri": "https://localhost:8080/",
          "height": 443
        },
        "id": "Sld8cBZow-9Q",
        "outputId": "cb4e0f5b-0b61-46aa-f491-9c9fc2d704bd"
      },
      "execution_count": null,
      "outputs": [
        {
          "output_type": "execute_result",
          "data": {
            "text/plain": [
              "<Axes: >"
            ]
          },
          "metadata": {},
          "execution_count": 8
        },
        {
          "output_type": "display_data",
          "data": {
            "text/plain": [
              "<Figure size 640x480 with 1 Axes>"
            ],
            "image/png": "[encoded data removed]"
          },
          "metadata": {}
        }
      ]
    },
    {
      "cell_type": "code",
      "source": [
        "print(df.groupby('label').size().reset_index(name = 'count')) # 80(긍):20(부) 비율"
      ],
      "metadata": {
        "colab": {
          "base_uri": "https://localhost:8080/"
        },
        "id": "LWb0KJrBw-6i",
        "outputId": "d523e063-92f4-4bdf-ce34-b1227db679d2"
      },
      "execution_count": null,
      "outputs": [
        {
          "output_type": "stream",
          "name": "stdout",
          "text": [
            "   label  count\n",
            "0      0    191\n",
            "1      1    544\n"
          ]
        }
      ]
    },
    {
      "cell_type": "markdown",
      "source": [
        "**4) 데이터 정제**"
      ],
      "metadata": {
        "id": "6SYebFdyzFdB"
      }
    },
    {
      "cell_type": "code",
      "source": [
        "# 한글과 공백을 제외하고 모두 제거\n",
        "train_data['reviews'] = train_data['reviews'].str.replace(\"[^ㄱ-ㅎㅏ-ㅣ가-힣 ]\",\"\")\n",
        "train_data['reviews'].replace('', np.nan, inplace=True)\n",
        "print(train_data.isnull().sum())"
      ],
      "metadata": {
        "colab": {
          "base_uri": "https://localhost:8080/"
        },
        "id": "xFcvLLO8w-3j",
        "outputId": "ca6a3256-69dc-415a-e707-1333b1769b94"
      },
      "execution_count": null,
      "outputs": [
        {
          "output_type": "stream",
          "name": "stdout",
          "text": [
            "ratings    0\n",
            "reviews    0\n",
            "label      0\n",
            "dtype: int64\n"
          ]
        },
        {
          "output_type": "stream",
          "name": "stderr",
          "text": [
            "<ipython-input-10-5c91c21161d5>:2: FutureWarning: The default value of regex will change from True to False in a future version.\n",
            "  train_data['reviews'] = train_data['reviews'].str.replace(\"[^ㄱ-ㅎㅏ-ㅣ가-힣 ]\",\"\")\n"
          ]
        }
      ]
    },
    {
      "cell_type": "code",
      "source": [
        "test_data.drop_duplicates(subset = ['reviews'], inplace=True) # 중복 제거\n",
        "test_data['reviews'] = test_data['reviews'].str.replace(\"[^ㄱ-ㅎㅏ-ㅣ가-힣 ]\",\"\") # 정규 표현식 수행\n",
        "test_data['reviews'].replace('', np.nan, inplace=True) # 공백은 Null 값으로 변경\n",
        "test_data = test_data.dropna(how='any') # Null 값 제거\n",
        "print('전처리 후 테스트용 샘플의 개수 :',len(test_data))"
      ],
      "metadata": {
        "colab": {
          "base_uri": "https://localhost:8080/"
        },
        "id": "b0DEPOx7w-z6",
        "outputId": "77c9856a-e0e7-465f-e457-ce16105f4eda"
      },
      "execution_count": null,
      "outputs": [
        {
          "output_type": "stream",
          "name": "stdout",
          "text": [
            "전처리 후 테스트용 샘플의 개수 : 184\n"
          ]
        },
        {
          "output_type": "stream",
          "name": "stderr",
          "text": [
            "<ipython-input-11-5968a3f5f2bc>:2: FutureWarning: The default value of regex will change from True to False in a future version.\n",
            "  test_data['reviews'] = test_data['reviews'].str.replace(\"[^ㄱ-ㅎㅏ-ㅣ가-힣 ]\",\"\") # 정규 표현식 수행\n"
          ]
        }
      ]
    },
    {
      "cell_type": "markdown",
      "source": [
        "**5) 토큰화**"
      ],
      "metadata": {
        "id": "Q6JO8ZAgzKfU"
      }
    },
    {
      "cell_type": "code",
      "source": [
        "stopwords = ['요', '으로', '로', '도', '는', '다', '의', '가', '이', '은', '한', '에', '하', '고', '을', '를', '인', '듯', '과', '와', '네', '들', '듯', '지', '임', '게']\n",
        "\n",
        "# 훈련 데이터\n",
        "train_data['tokenized'] = train_data['reviews'].apply(okt.morphs)\n",
        "train_data['tokenized'] = train_data['tokenized'].apply(lambda x: [item for item in x if item not in stopwords])"
      ],
      "metadata": {
        "id": "wmnYODDsxNPH"
      },
      "execution_count": null,
      "outputs": []
    },
    {
      "cell_type": "code",
      "source": [
        "# 테스트 데이터\n",
        "test_data['tokenized'] = test_data['reviews'].apply(okt.morphs)\n",
        "test_data['tokenized'] = test_data['tokenized'].apply(lambda x: [item for item in x if item not in stopwords])"
      ],
      "metadata": {
        "id": "pyRT9klFxNNG"
      },
      "execution_count": null,
      "outputs": []
    },
    {
      "cell_type": "markdown",
      "source": [
        "**6) 단어와 길이 분포 확인**"
      ],
      "metadata": {
        "id": "Li-chnTVzNum"
      }
    },
    {
      "cell_type": "code",
      "source": [
        "negative_words = np.hstack(train_data[train_data.label == 0]['tokenized'].values)\n",
        "positive_words = np.hstack(train_data[train_data.label == 1]['tokenized'].values)"
      ],
      "metadata": {
        "id": "oCopdIxYxNLH"
      },
      "execution_count": null,
      "outputs": []
    },
    {
      "cell_type": "code",
      "source": [
        "# 부정 리뷰에는 주로 어떤 단어들이 등장하는 지\n",
        "negative_word_count = Counter(negative_words)\n",
        "print(negative_word_count.most_common(20))"
      ],
      "metadata": {
        "colab": {
          "base_uri": "https://localhost:8080/"
        },
        "id": "NpEWITUNxNHA",
        "outputId": "759fbc2d-2f0e-4323-bfef-027832e659a8"
      },
      "execution_count": null,
      "outputs": [
        {
          "output_type": "stream",
          "name": "stdout",
          "text": [
            "[('맛', 62), ('포장', 29), ('소스', 24), ('좀', 24), ('주문', 21), ('너무', 20), ('안', 20), ('배송', 19), ('냉동', 19), ('별로', 19), ('닭', 17), ('개', 16), ('제품', 15), ('먹어', 14), ('것', 14), ('양념', 13), ('왔어요', 12), ('했는데', 12), ('잘', 12), ('하고', 12)]\n"
          ]
        }
      ]
    },
    {
      "cell_type": "code",
      "source": [
        "# 긍정 리뷰에는 주로 어떤 단어들이 등장하는 지\n",
        "positive_word_count = Counter(positive_words)\n",
        "print(positive_word_count.most_common(20))"
      ],
      "metadata": {
        "colab": {
          "base_uri": "https://localhost:8080/"
        },
        "id": "MeW0Zez9xWeU",
        "outputId": "24fb0629-492a-4e02-fc09-40d68ec2ad3a"
      },
      "execution_count": null,
      "outputs": [
        {
          "output_type": "stream",
          "name": "stdout",
          "text": [
            "[('맛', 126), ('맛있어요', 102), ('닭', 70), ('가슴', 69), ('살', 54), ('잘', 52), ('좋아요', 46), ('배송', 43), ('너무', 38), ('진짜', 28), ('구매', 27), ('만', 26), ('또', 24), ('먹고', 24), ('맛있고', 24), ('먹어', 24), ('시켜', 20), ('주문', 20), ('소스', 20), ('중', 20)]\n"
          ]
        }
      ]
    },
    {
      "cell_type": "code",
      "source": [
        "fig,(ax1,ax2) = plt.subplots(1,2,figsize=(10,5))\n",
        "text_len = train_data[train_data['label']==1]['tokenized'].map(lambda x: len(x))\n",
        "ax1.hist(text_len, color='red')\n",
        "ax1.set_title('Positive Reviews')\n",
        "ax1.set_xlabel('length of samples')\n",
        "ax1.set_ylabel('number of samples')\n",
        "print('긍정 리뷰의 평균 길이 :', np.mean(text_len))\n",
        "\n",
        "text_len = train_data[train_data['label']==0]['tokenized'].map(lambda x: len(x))\n",
        "ax2.hist(text_len, color='blue')\n",
        "ax2.set_title('Negative Reviews')\n",
        "fig.suptitle('Words in texts')\n",
        "ax2.set_xlabel('length of samples')\n",
        "ax2.set_ylabel('number of samples')\n",
        "print('부정 리뷰의 평균 길이 :', np.mean(text_len))\n",
        "plt.show()"
      ],
      "metadata": {
        "colab": {
          "base_uri": "https://localhost:8080/",
          "height": 551
        },
        "id": "SWUFcheRxWUt",
        "outputId": "dc8553bd-bc04-4bf0-c8b4-98fc167ad7d4"
      },
      "execution_count": null,
      "outputs": [
        {
          "output_type": "stream",
          "name": "stdout",
          "text": [
            "긍정 리뷰의 평균 길이 : 8.62807881773399\n",
            "부정 리뷰의 평균 길이 : 15.806896551724138\n"
          ]
        },
        {
          "output_type": "display_data",
          "data": {
            "text/plain": [
              "<Figure size 1000x500 with 2 Axes>"
            ],
            "image/png": "[encoded data removed]"
          },
          "metadata": {}
        }
      ]
    },
    {
      "cell_type": "markdown",
      "source": [
        "*긍정 리뷰보다 부정 리뷰가 조금 더 길게 작성된 경향이 있다.*"
      ],
      "metadata": {
        "id": "2ngqI8k4zUIL"
      }
    },
    {
      "cell_type": "code",
      "source": [
        "X_train = train_data['tokenized'].values\n",
        "y_train = train_data['label'].values\n",
        "X_test= test_data['tokenized'].values\n",
        "y_test = test_data['label'].values"
      ],
      "metadata": {
        "id": "KOaNQ1yjxdMC"
      },
      "execution_count": null,
      "outputs": []
    },
    {
      "cell_type": "markdown",
      "source": [
        "**7) 정수 인코딩**"
      ],
      "metadata": {
        "id": "Z0C_3muUzbPL"
      }
    },
    {
      "cell_type": "code",
      "source": [
        "tokenizer = Tokenizer()\n",
        "tokenizer.fit_on_texts(X_train)"
      ],
      "metadata": {
        "id": "EHiPg4ybxdH7"
      },
      "execution_count": null,
      "outputs": []
    },
    {
      "cell_type": "code",
      "source": [
        "threshold = 2\n",
        "total_cnt = len(tokenizer.word_index) # 단어의 수\n",
        "rare_cnt = 0 # 등장 빈도수가 threshold보다 작은 단어의 개수를 카운트\n",
        "total_freq = 0 # 훈련 데이터의 전체 단어 빈도수 총 합\n",
        "rare_freq = 0 # 등장 빈도수가 threshold보다 작은 단어의 등장 빈도수의 총 합\n",
        "\n",
        "# 단어와 빈도수의 쌍(pair)을 key와 value로 받는다.\n",
        "for key, value in tokenizer.word_counts.items():\n",
        "    total_freq = total_freq + value\n",
        "\n",
        "    # 단어의 등장 빈도수가 threshold보다 작으면\n",
        "    if(value < threshold):\n",
        "        rare_cnt = rare_cnt + 1\n",
        "        rare_freq = rare_freq + value\n",
        "\n",
        "print('단어 집합(vocabulary)의 크기 :',total_cnt)\n",
        "print('등장 빈도가 %s번 이하인 희귀 단어의 수: %s'%(threshold - 1, rare_cnt))\n",
        "print(\"단어 집합에서 희귀 단어의 비율:\", (rare_cnt / total_cnt)*100)\n",
        "print(\"전체 등장 빈도에서 희귀 단어 등장 빈도 비율:\", (rare_freq / total_freq)*100)"
      ],
      "metadata": {
        "colab": {
          "base_uri": "https://localhost:8080/"
        },
        "id": "9giqtBXDxdCB",
        "outputId": "b08eb8ee-3380-4c27-d185-4f3cf58f3b77"
      },
      "execution_count": null,
      "outputs": [
        {
          "output_type": "stream",
          "name": "stdout",
          "text": [
            "단어 집합(vocabulary)의 크기 : 1954\n",
            "등장 빈도가 1번 이하인 희귀 단어의 수: 1230\n",
            "단어 집합에서 희귀 단어의 비율: 62.94779938587512\n",
            "전체 등장 빈도에서 희귀 단어 등장 빈도 비율: 21.225194132873167\n"
          ]
        }
      ]
    },
    {
      "cell_type": "code",
      "source": [
        "# 전체 단어 개수 중 빈도수 2이하인 단어 개수는 제거.\n",
        "# 0번 패딩 토큰과 1번 OOV 토큰을 고려하여 +2\n",
        "vocab_size = total_cnt - rare_cnt + 2\n",
        "print('단어 집합의 크기 :',vocab_size)"
      ],
      "metadata": {
        "colab": {
          "base_uri": "https://localhost:8080/"
        },
        "id": "gOZX0A1zxpbX",
        "outputId": "a3164128-60e1-4232-9b1a-d836382fcc93"
      },
      "execution_count": null,
      "outputs": [
        {
          "output_type": "stream",
          "name": "stdout",
          "text": [
            "단어 집합의 크기 : 726\n"
          ]
        }
      ]
    },
    {
      "cell_type": "code",
      "source": [
        "tokenizer = Tokenizer(vocab_size, oov_token = 'OOV')\n",
        "tokenizer.fit_on_texts(X_train)\n",
        "X_train = tokenizer.texts_to_sequences(X_train)\n",
        "X_test = tokenizer.texts_to_sequences(X_test)"
      ],
      "metadata": {
        "id": "WH9j5I-NxpWa"
      },
      "execution_count": null,
      "outputs": []
    },
    {
      "cell_type": "code",
      "source": [
        "print(X_train[:3])"
      ],
      "metadata": {
        "colab": {
          "base_uri": "https://localhost:8080/"
        },
        "id": "WHokQ55KxpSH",
        "outputId": "43606d1e-fd26-450c-fa74-c83a85865603"
      },
      "execution_count": null,
      "outputs": [
        {
          "output_type": "stream",
          "name": "stdout",
          "text": [
            "[[451, 19, 38, 19, 110, 156, 320, 452, 1, 45, 321, 239], [240, 90, 9, 322], [38, 111, 17, 1, 157, 1, 1]]\n"
          ]
        }
      ]
    },
    {
      "cell_type": "code",
      "source": [
        "print(X_test[:3])"
      ],
      "metadata": {
        "colab": {
          "base_uri": "https://localhost:8080/"
        },
        "id": "WacKWnpNxvIc",
        "outputId": "46ed221d-e4dd-4d58-9f30-bdd1ee7674ee"
      },
      "execution_count": null,
      "outputs": [
        {
          "output_type": "stream",
          "name": "stdout",
          "text": [
            "[[46, 1, 55, 34, 1, 239], [38, 149, 65, 1, 1, 65, 15, 1, 42, 17, 23, 1, 654, 103, 72, 340, 1, 93, 31, 27, 247, 1, 84, 1, 58, 553, 17, 77, 120, 36, 1, 1, 65, 1, 229, 180, 323, 1, 31, 1, 1, 31, 80, 33, 65, 2, 77, 20, 1, 65, 12, 1, 355, 161, 474, 1, 1, 1, 20, 1, 1, 192, 32, 1, 1, 1, 69, 1, 70, 64, 1, 3, 48, 1, 4, 5, 8, 25, 45, 3], [1, 359, 1, 1, 565, 17, 1, 237, 38, 1, 1, 721, 1, 1, 1, 80, 2, 16, 1, 615, 57, 1, 1, 434, 1, 73, 119, 45, 457, 1]]\n"
          ]
        }
      ]
    },
    {
      "cell_type": "markdown",
      "source": [
        "**8) 패딩**"
      ],
      "metadata": {
        "id": "fJnjmOMozhkq"
      }
    },
    {
      "cell_type": "code",
      "source": [
        "print('리뷰의 최대 길이 :',max(len(review) for review in X_train))\n",
        "print('리뷰의 평균 길이 :',sum(map(len, X_train))/len(X_train))\n",
        "plt.hist([len(review) for review in X_train], bins=50)\n",
        "plt.xlabel('length of samples')\n",
        "plt.ylabel('number of samples')\n",
        "plt.show()"
      ],
      "metadata": {
        "colab": {
          "base_uri": "https://localhost:8080/",
          "height": 485
        },
        "id": "qMmwmL9gxvF-",
        "outputId": "373a01ac-e15c-428e-c5eb-5f0b2504bde0"
      },
      "execution_count": null,
      "outputs": [
        {
          "output_type": "stream",
          "name": "stdout",
          "text": [
            "리뷰의 최대 길이 : 265\n",
            "리뷰의 평균 길이 : 10.517241379310345\n"
          ]
        },
        {
          "output_type": "display_data",
          "data": {
            "text/plain": [
              "<Figure size 640x480 with 1 Axes>"
            ],
            "image/png": "[encoded data removed]"
          },
          "metadata": {}
        }
      ]
    },
    {
      "cell_type": "code",
      "source": [
        "def below_threshold_len(max_len, nested_list):\n",
        "  count = 0\n",
        "  for sentence in nested_list:\n",
        "    if(len(sentence) <= max_len):\n",
        "        count = count + 1\n",
        "  print('전체 샘플 중 길이가 %s 이하인 샘플의 비율: %s'%(max_len, (count / len(nested_list))*100))"
      ],
      "metadata": {
        "id": "3XZ-TwZOxvC2"
      },
      "execution_count": null,
      "outputs": []
    },
    {
      "cell_type": "code",
      "source": [
        "max_len = 50\n",
        "below_threshold_len(max_len, X_train)"
      ],
      "metadata": {
        "colab": {
          "base_uri": "https://localhost:8080/"
        },
        "id": "M842v3v4x4fm",
        "outputId": "abfd8ee7-c70b-4a39-db1b-20ec94b867b2"
      },
      "execution_count": null,
      "outputs": [
        {
          "output_type": "stream",
          "name": "stdout",
          "text": [
            "전체 샘플 중 길이가 50 이하인 샘플의 비율: 98.72958257713249\n"
          ]
        }
      ]
    },
    {
      "cell_type": "code",
      "source": [
        "X_train = pad_sequences(X_train, maxlen=max_len)\n",
        "X_test = pad_sequences(X_test, maxlen=max_len)"
      ],
      "metadata": {
        "id": "bNrQrkrox7u5"
      },
      "execution_count": null,
      "outputs": []
    },
    {
      "cell_type": "markdown",
      "source": [
        "# 모델학습"
      ],
      "metadata": {
        "id": "mGzHPShnz_3l"
      }
    },
    {
      "cell_type": "markdown",
      "source": [
        "**1) GRU**"
      ],
      "metadata": {
        "id": "V1Q58Ao6z3Mt"
      }
    },
    {
      "cell_type": "code",
      "source": [
        "from tensorflow.keras.layers import Embedding, Dense, GRU\n",
        "from tensorflow.keras.models import Sequential\n",
        "from tensorflow.keras.models import load_model\n",
        "from tensorflow.keras.callbacks import EarlyStopping, ModelCheckpoint\n",
        "\n",
        "embedding_dim = 100\n",
        "hidden_units = 128\n",
        "\n",
        "model = Sequential()\n",
        "model.add(Embedding(vocab_size, embedding_dim))\n",
        "model.add(GRU(hidden_units))\n",
        "model.add(Dense(1, activation='sigmoid'))\n",
        "\n",
        "es = EarlyStopping(monitor='val_loss', mode='min', verbose=1, patience=4)\n",
        "mc = ModelCheckpoint('best_model.h5', monitor='val_acc', mode='max', verbose=1, save_best_only=True)\n",
        "\n",
        "model.compile(optimizer='rmsprop', loss='binary_crossentropy', metrics=['acc'])\n",
        "history = model.fit(X_train, y_train, epochs=15, callbacks=[es, mc], batch_size=64, validation_split=0.2)"
      ],
      "metadata": {
        "colab": {
          "base_uri": "https://localhost:8080/"
        },
        "id": "5ArGH2cQx-YO",
        "outputId": "7c50d684-ddde-4aa5-cc6f-86d2fead98c5"
      },
      "execution_count": null,
      "outputs": [
        {
          "output_type": "stream",
          "name": "stdout",
          "text": [
            "Epoch 1/15\n",
            "7/7 [==============================] - ETA: 0s - loss: 0.6534 - acc: 0.6773\n",
            "Epoch 1: val_acc improved from -inf to 0.84685, saving model to best_model.h5\n"
          ]
        },
        {
          "output_type": "stream",
          "name": "stderr",
          "text": [
            "/usr/local/lib/python3.10/dist-packages/keras/src/engine/training.py:3079: UserWarning: You are saving your model as an HDF5 file via `model.save()`. This file format is considered legacy. We recommend using instead the native Keras format, e.g. `model.save('my_model.keras')`.\n",
            "  saving_api.save_model(\n"
          ]
        },
        {
          "output_type": "stream",
          "name": "stdout",
          "text": [
            "\b\b\b\b\b\b\b\b\b\b\b\b\b\b\b\b\b\b\b\b\b\b\b\b\b\b\b\b\b\b\b\b\b\b\b\b\b\b\b\b\b\b\b\b\b\b\b\b\b\b\b\b\b\b\b\b\b\b\b\b\b\b\b\b\b\b\b\b\b\b\b\b\b\b\b\r7/7 [==============================] - 5s 380ms/step - loss: 0.6534 - acc: 0.6773 - val_loss: 0.5385 - val_acc: 0.8468\n",
            "Epoch 2/15\n",
            "7/7 [==============================] - ETA: 0s - loss: 0.5951 - acc: 0.7091\n",
            "Epoch 2: val_acc did not improve from 0.84685\n",
            "7/7 [==============================] - 1s 115ms/step - loss: 0.5951 - acc: 0.7091 - val_loss: 0.4842 - val_acc: 0.8468\n",
            "Epoch 3/15\n",
            "7/7 [==============================] - ETA: 0s - loss: 0.5636 - acc: 0.7091\n",
            "Epoch 3: val_acc did not improve from 0.84685\n",
            "7/7 [==============================] - 1s 113ms/step - loss: 0.5636 - acc: 0.7091 - val_loss: 0.4353 - val_acc: 0.8468\n",
            "Epoch 4/15\n",
            "7/7 [==============================] - ETA: 0s - loss: 0.5176 - acc: 0.7136\n",
            "Epoch 4: val_acc did not improve from 0.84685\n",
            "7/7 [==============================] - 1s 117ms/step - loss: 0.5176 - acc: 0.7136 - val_loss: 0.3983 - val_acc: 0.8468\n",
            "Epoch 5/15\n",
            "7/7 [==============================] - ETA: 0s - loss: 0.4624 - acc: 0.7636\n",
            "Epoch 5: val_acc improved from 0.84685 to 0.85586, saving model to best_model.h5\n",
            "7/7 [==============================] - 1s 118ms/step - loss: 0.4624 - acc: 0.7636 - val_loss: 0.3971 - val_acc: 0.8559\n",
            "Epoch 6/15\n",
            "7/7 [==============================] - ETA: 0s - loss: 0.3971 - acc: 0.8295\n",
            "Epoch 6: val_acc improved from 0.85586 to 0.86486, saving model to best_model.h5\n",
            "7/7 [==============================] - 1s 147ms/step - loss: 0.3971 - acc: 0.8295 - val_loss: 0.3211 - val_acc: 0.8649\n",
            "Epoch 7/15\n",
            "7/7 [==============================] - ETA: 0s - loss: 0.3182 - acc: 0.8659\n",
            "Epoch 7: val_acc improved from 0.86486 to 0.88288, saving model to best_model.h5\n",
            "7/7 [==============================] - 2s 222ms/step - loss: 0.3182 - acc: 0.8659 - val_loss: 0.2707 - val_acc: 0.8829\n",
            "Epoch 8/15\n",
            "7/7 [==============================] - ETA: 0s - loss: 0.2556 - acc: 0.8977\n",
            "Epoch 8: val_acc did not improve from 0.88288\n",
            "7/7 [==============================] - 1s 162ms/step - loss: 0.2556 - acc: 0.8977 - val_loss: 0.2716 - val_acc: 0.8649\n",
            "Epoch 9/15\n",
            "7/7 [==============================] - ETA: 0s - loss: 0.2109 - acc: 0.9386\n",
            "Epoch 9: val_acc improved from 0.88288 to 0.89189, saving model to best_model.h5\n",
            "7/7 [==============================] - 1s 131ms/step - loss: 0.2109 - acc: 0.9386 - val_loss: 0.2647 - val_acc: 0.8919\n",
            "Epoch 10/15\n",
            "7/7 [==============================] - ETA: 0s - loss: 0.1736 - acc: 0.9455\n",
            "Epoch 10: val_acc did not improve from 0.89189\n",
            "7/7 [==============================] - 1s 118ms/step - loss: 0.1736 - acc: 0.9455 - val_loss: 0.2305 - val_acc: 0.8919\n",
            "Epoch 11/15\n",
            "7/7 [==============================] - ETA: 0s - loss: 0.1290 - acc: 0.9568\n",
            "Epoch 11: val_acc did not improve from 0.89189\n",
            "7/7 [==============================] - 1s 116ms/step - loss: 0.1290 - acc: 0.9568 - val_loss: 0.2463 - val_acc: 0.8649\n",
            "Epoch 12/15\n",
            "7/7 [==============================] - ETA: 0s - loss: 0.1106 - acc: 0.9659\n",
            "Epoch 12: val_acc improved from 0.89189 to 0.90090, saving model to best_model.h5\n",
            "7/7 [==============================] - 1s 118ms/step - loss: 0.1106 - acc: 0.9659 - val_loss: 0.2128 - val_acc: 0.9009\n",
            "Epoch 13/15\n",
            "7/7 [==============================] - ETA: 0s - loss: 0.0967 - acc: 0.9682\n",
            "Epoch 13: val_acc did not improve from 0.90090\n",
            "7/7 [==============================] - 1s 124ms/step - loss: 0.0967 - acc: 0.9682 - val_loss: 0.2801 - val_acc: 0.8919\n",
            "Epoch 14/15\n",
            "7/7 [==============================] - ETA: 0s - loss: 0.0732 - acc: 0.9818\n",
            "Epoch 14: val_acc did not improve from 0.90090\n",
            "7/7 [==============================] - 1s 123ms/step - loss: 0.0732 - acc: 0.9818 - val_loss: 0.2741 - val_acc: 0.8829\n",
            "Epoch 15/15\n",
            "7/7 [==============================] - ETA: 0s - loss: 0.0662 - acc: 0.9773\n",
            "Epoch 15: val_acc did not improve from 0.90090\n",
            "7/7 [==============================] - 1s 119ms/step - loss: 0.0662 - acc: 0.9773 - val_loss: 0.2960 - val_acc: 0.8829\n"
          ]
        }
      ]
    },
    {
      "cell_type": "code",
      "source": [
        "loaded_model = load_model('best_model.h5')\n",
        "print(\"\\n 테스트 정확도: %.4f\" % (loaded_model.evaluate(X_test, y_test)[1]))"
      ],
      "metadata": {
        "colab": {
          "base_uri": "https://localhost:8080/"
        },
        "id": "tiqJ3rJHyDwS",
        "outputId": "acb87b08-ceaf-43bc-c691-b4a02ca5d3d4"
      },
      "execution_count": null,
      "outputs": [
        {
          "output_type": "stream",
          "name": "stdout",
          "text": [
            "6/6 [==============================] - 1s 27ms/step - loss: 0.3967 - acc: 0.8587\n",
            "\n",
            " 테스트 정확도: 0.8587\n"
          ]
        }
      ]
    },
    {
      "cell_type": "markdown",
      "source": [
        "**2) LSTM**"
      ],
      "metadata": {
        "id": "JCAzWBFpmAaZ"
      }
    },
    {
      "cell_type": "code",
      "source": [
        "from tensorflow.keras.layers import Embedding, Dense, LSTM\n",
        "from tensorflow.keras.models import Sequential\n",
        "from tensorflow.keras.models import load_model\n",
        "from tensorflow.keras.callbacks import EarlyStopping, ModelCheckpoint\n",
        "\n",
        "embedding_dim = 100\n",
        "hidden_units = 128\n",
        "\n",
        "model = Sequential()\n",
        "model.add(Embedding(vocab_size, embedding_dim))\n",
        "model.add(LSTM(hidden_units))\n",
        "model.add(Dense(1, activation='sigmoid'))\n",
        "\n",
        "es = EarlyStopping(monitor='val_loss', mode='min', verbose=1, patience=4)\n",
        "mc = ModelCheckpoint('best_model.h5', monitor='val_acc', mode='max', verbose=1, save_best_only=True)\n",
        "\n",
        "model.compile(optimizer='rmsprop', loss='binary_crossentropy', metrics=['acc'])\n",
        "history = model.fit(X_train, y_train, epochs=15, callbacks=[es, mc], batch_size=64, validation_split=0.2)"
      ],
      "metadata": {
        "colab": {
          "base_uri": "https://localhost:8080/"
        },
        "id": "n8Hx_k8tl6V0",
        "outputId": "e2e4ba75-bfc7-402d-f698-2808c69dd77f"
      },
      "execution_count": null,
      "outputs": [
        {
          "output_type": "stream",
          "name": "stdout",
          "text": [
            "Epoch 1/15\n",
            "7/7 [==============================] - ETA: 0s - loss: 0.6395 - acc: 0.6864\n",
            "Epoch 1: val_acc improved from -inf to 0.84685, saving model to best_model.h5\n",
            "7/7 [==============================] - 4s 309ms/step - loss: 0.6395 - acc: 0.6864 - val_loss: 0.5141 - val_acc: 0.8468\n",
            "Epoch 2/15\n",
            "7/7 [==============================] - ETA: 0s - loss: 0.5807 - acc: 0.7182\n",
            "Epoch 2: val_acc did not improve from 0.84685\n",
            "7/7 [==============================] - 1s 137ms/step - loss: 0.5807 - acc: 0.7182 - val_loss: 0.4537 - val_acc: 0.8468\n",
            "Epoch 3/15\n",
            "7/7 [==============================] - ETA: 0s - loss: 0.5682 - acc: 0.7250\n",
            "Epoch 3: val_acc improved from 0.84685 to 0.86486, saving model to best_model.h5\n",
            "7/7 [==============================] - 1s 148ms/step - loss: 0.5682 - acc: 0.7250 - val_loss: 0.4495 - val_acc: 0.8649\n",
            "Epoch 4/15\n",
            "7/7 [==============================] - ETA: 0s - loss: 0.5447 - acc: 0.7364\n",
            "Epoch 4: val_acc did not improve from 0.86486\n",
            "7/7 [==============================] - 1s 141ms/step - loss: 0.5447 - acc: 0.7364 - val_loss: 0.4467 - val_acc: 0.8559\n",
            "Epoch 5/15\n",
            "7/7 [==============================] - ETA: 0s - loss: 0.5354 - acc: 0.7523\n",
            "Epoch 5: val_acc did not improve from 0.86486\n",
            "7/7 [==============================] - 1s 148ms/step - loss: 0.5354 - acc: 0.7523 - val_loss: 0.5060 - val_acc: 0.8288\n",
            "Epoch 6/15\n",
            "7/7 [==============================] - ETA: 0s - loss: 0.4959 - acc: 0.7841\n",
            "Epoch 6: val_acc did not improve from 0.86486\n",
            "7/7 [==============================] - 2s 242ms/step - loss: 0.4959 - acc: 0.7841 - val_loss: 0.3676 - val_acc: 0.8649\n",
            "Epoch 7/15\n",
            "7/7 [==============================] - ETA: 0s - loss: 0.4562 - acc: 0.7955\n",
            "Epoch 7: val_acc did not improve from 0.86486\n",
            "7/7 [==============================] - 2s 221ms/step - loss: 0.4562 - acc: 0.7955 - val_loss: 0.4766 - val_acc: 0.8018\n",
            "Epoch 8/15\n",
            "7/7 [==============================] - ETA: 0s - loss: 0.4390 - acc: 0.8136\n",
            "Epoch 8: val_acc improved from 0.86486 to 0.87387, saving model to best_model.h5\n",
            "7/7 [==============================] - 1s 148ms/step - loss: 0.4390 - acc: 0.8136 - val_loss: 0.3656 - val_acc: 0.8739\n",
            "Epoch 9/15\n",
            "7/7 [==============================] - ETA: 0s - loss: 0.3871 - acc: 0.8455\n",
            "Epoch 9: val_acc did not improve from 0.87387\n",
            "7/7 [==============================] - 1s 137ms/step - loss: 0.3871 - acc: 0.8455 - val_loss: 0.3414 - val_acc: 0.8739\n",
            "Epoch 10/15\n",
            "7/7 [==============================] - ETA: 0s - loss: 0.3196 - acc: 0.8773\n",
            "Epoch 10: val_acc improved from 0.87387 to 0.88288, saving model to best_model.h5\n",
            "7/7 [==============================] - 1s 148ms/step - loss: 0.3196 - acc: 0.8773 - val_loss: 0.2712 - val_acc: 0.8829\n",
            "Epoch 11/15\n",
            "7/7 [==============================] - ETA: 0s - loss: 0.2696 - acc: 0.8977\n",
            "Epoch 11: val_acc did not improve from 0.88288\n",
            "7/7 [==============================] - 1s 143ms/step - loss: 0.2696 - acc: 0.8977 - val_loss: 0.3323 - val_acc: 0.8468\n",
            "Epoch 12/15\n",
            "7/7 [==============================] - ETA: 0s - loss: 0.2377 - acc: 0.9091\n",
            "Epoch 12: val_acc did not improve from 0.88288\n",
            "7/7 [==============================] - 1s 144ms/step - loss: 0.2377 - acc: 0.9091 - val_loss: 0.3238 - val_acc: 0.8649\n",
            "Epoch 13/15\n",
            "7/7 [==============================] - ETA: 0s - loss: 0.1977 - acc: 0.9318\n",
            "Epoch 13: val_acc did not improve from 0.88288\n",
            "7/7 [==============================] - 1s 134ms/step - loss: 0.1977 - acc: 0.9318 - val_loss: 0.2380 - val_acc: 0.8739\n",
            "Epoch 14/15\n",
            "7/7 [==============================] - ETA: 0s - loss: 0.1706 - acc: 0.9432\n",
            "Epoch 14: val_acc did not improve from 0.88288\n",
            "7/7 [==============================] - 1s 135ms/step - loss: 0.1706 - acc: 0.9432 - val_loss: 0.2347 - val_acc: 0.8739\n",
            "Epoch 15/15\n",
            "7/7 [==============================] - ETA: 0s - loss: 0.1465 - acc: 0.9545\n",
            "Epoch 15: val_acc improved from 0.88288 to 0.90090, saving model to best_model.h5\n",
            "7/7 [==============================] - 1s 135ms/step - loss: 0.1465 - acc: 0.9545 - val_loss: 0.2835 - val_acc: 0.9009\n"
          ]
        }
      ]
    },
    {
      "cell_type": "code",
      "source": [
        "loaded_model = load_model('best_model.h5')\n",
        "print(\"\\n 테스트 정확도: %.4f\" % (loaded_model.evaluate(X_test, y_test)[1]))"
      ],
      "metadata": {
        "colab": {
          "base_uri": "https://localhost:8080/"
        },
        "id": "595jO-nSmgTj",
        "outputId": "1717e6e7-de21-4f42-8fb8-99d51858296a"
      },
      "execution_count": null,
      "outputs": [
        {
          "output_type": "stream",
          "name": "stdout",
          "text": [
            "6/6 [==============================] - 1s 28ms/step - loss: 0.3589 - acc: 0.8478\n",
            "\n",
            " 테스트 정확도: 0.8478\n"
          ]
        }
      ]
    },
    {
      "cell_type": "markdown",
      "source": [
        "**3) Transformer**"
      ],
      "metadata": {
        "id": "RHZkEKM7UTcR"
      }
    },
    {
      "cell_type": "markdown",
      "source": [
        "# 시각화\n"
      ],
      "metadata": {
        "id": "UGaIYObytJ1B"
      }
    },
    {
      "cell_type": "code",
      "source": [
        "word_dict_negative = dict(negative_word_count.most_common(50)) # 딕셔너리 형태로 변경\n",
        "word_dict_negative"
      ],
      "metadata": {
        "colab": {
          "base_uri": "https://localhost:8080/"
        },
        "id": "XuEyzV87Po5V",
        "outputId": "2815243e-c000-465d-fbf1-e37bb9f02afa"
      },
      "execution_count": null,
      "outputs": [
        {
          "output_type": "execute_result",
          "data": {
            "text/plain": [
              "{'맛': 62,\n",
              " '포장': 29,\n",
              " '소스': 24,\n",
              " '좀': 24,\n",
              " '주문': 21,\n",
              " '너무': 20,\n",
              " '안': 20,\n",
              " '배송': 19,\n",
              " '냉동': 19,\n",
              " '별로': 19,\n",
              " '닭': 17,\n",
              " '개': 16,\n",
              " '제품': 15,\n",
              " '먹어': 14,\n",
              " '것': 14,\n",
              " '양념': 13,\n",
              " '왔어요': 12,\n",
              " '했는데': 12,\n",
              " '잘': 12,\n",
              " '하고': 12,\n",
              " '문의': 12,\n",
              " '저': 11,\n",
              " '상태': 11,\n",
              " '생각': 11,\n",
              " '만': 11,\n",
              " '확인': 10,\n",
              " '가슴': 10,\n",
              " 'ㅠ': 10,\n",
              " '리뷰': 10,\n",
              " '제': 9,\n",
              " '합니다': 9,\n",
              " 'ㅠㅠ': 9,\n",
              " '하나': 8,\n",
              " '전화': 8,\n",
              " '그냥': 8,\n",
              " '보다': 8,\n",
              " '적': 8,\n",
              " '정도': 7,\n",
              " '녹아서': 7,\n",
              " '좋아요': 7,\n",
              " '재': 7,\n",
              " '냉장': 7,\n",
              " '이런': 7,\n",
              " '에서': 7,\n",
              " '다른': 7,\n",
              " '보관': 7,\n",
              " '살': 7,\n",
              " '같습니다': 7,\n",
              " '해동': 7,\n",
              " '이건': 7}"
            ]
          },
          "metadata": {},
          "execution_count": 67
        }
      ]
    },
    {
      "cell_type": "code",
      "source": [
        "word_dict_positive = dict(positive_word_count.most_common(50)) # 딕셔너리 형태로 변경\n",
        "word_dict_positive"
      ],
      "metadata": {
        "colab": {
          "base_uri": "https://localhost:8080/"
        },
        "id": "ledwaGMEPoUi",
        "outputId": "cfbd4ac2-45ae-42f8-8395-c04c7446d172"
      },
      "execution_count": null,
      "outputs": [
        {
          "output_type": "execute_result",
          "data": {
            "text/plain": [
              "{'맛': 126,\n",
              " '맛있어요': 102,\n",
              " '닭': 70,\n",
              " '가슴': 69,\n",
              " '살': 54,\n",
              " '잘': 52,\n",
              " '좋아요': 46,\n",
              " '배송': 43,\n",
              " '너무': 38,\n",
              " '진짜': 28,\n",
              " '구매': 27,\n",
              " '만': 26,\n",
              " '또': 24,\n",
              " '먹고': 24,\n",
              " '맛있고': 24,\n",
              " '먹어': 24,\n",
              " '시켜': 20,\n",
              " '주문': 20,\n",
              " '소스': 20,\n",
              " '중': 20,\n",
              " '부드럽고': 20,\n",
              " '다이어트': 20,\n",
              " '입니다': 19,\n",
              " '빠르고': 19,\n",
              " '먹기': 19,\n",
              " '끼통살': 18,\n",
              " '것': 17,\n",
              " '밥': 17,\n",
              " '있어요': 17,\n",
              " '많이': 17,\n",
              " '제일': 16,\n",
              " '항상': 16,\n",
              " 'ㅎㅎ': 16,\n",
              " '거': 15,\n",
              " '추천': 14,\n",
              " '살이': 14,\n",
              " '맛있어서': 14,\n",
              " '떡볶이': 14,\n",
              " '않고': 13,\n",
              " '맛있게': 13,\n",
              " '이랑': 13,\n",
              " 'ㅠ': 13,\n",
              " '맛있습니다': 13,\n",
              " '여기': 12,\n",
              " '안': 12,\n",
              " '재구매': 12,\n",
              " '포장': 12,\n",
              " '다른': 11,\n",
              " '좀': 11,\n",
              " '먹으면': 11}"
            ]
          },
          "metadata": {},
          "execution_count": 68
        }
      ]
    },
    {
      "cell_type": "code",
      "source": [
        "!sudo apt-get install -y fonts-nanum\n",
        "!sudo fc-cache -fv\n",
        "!rm ~/.cache/matplotlib -rf"
      ],
      "metadata": {
        "colab": {
          "base_uri": "https://localhost:8080/"
        },
        "id": "r09hw1oVPQWv",
        "outputId": "0a07e90b-4b77-4643-a38a-aec37fa5bc79"
      },
      "execution_count": null,
      "outputs": [
        {
          "output_type": "stream",
          "name": "stdout",
          "text": [
            "Reading package lists... Done\n",
            "Building dependency tree... Done\n",
            "Reading state information... Done\n",
            "fonts-nanum is already the newest version (20200506-1).\n",
            "0 upgraded, 0 newly installed, 0 to remove and 19 not upgraded.\n",
            "/usr/share/fonts: caching, new cache contents: 0 fonts, 1 dirs\n",
            "/usr/share/fonts/truetype: caching, new cache contents: 0 fonts, 3 dirs\n",
            "/usr/share/fonts/truetype/humor-sans: caching, new cache contents: 1 fonts, 0 dirs\n",
            "/usr/share/fonts/truetype/liberation: caching, new cache contents: 16 fonts, 0 dirs\n",
            "/usr/share/fonts/truetype/nanum: caching, new cache contents: 12 fonts, 0 dirs\n",
            "/usr/local/share/fonts: caching, new cache contents: 0 fonts, 0 dirs\n",
            "/root/.local/share/fonts: skipping, no such directory\n",
            "/root/.fonts: skipping, no such directory\n",
            "/usr/share/fonts/truetype: skipping, looped directory detected\n",
            "/usr/share/fonts/truetype/humor-sans: skipping, looped directory detected\n",
            "/usr/share/fonts/truetype/liberation: skipping, looped directory detected\n",
            "/usr/share/fonts/truetype/nanum: skipping, looped directory detected\n",
            "/var/cache/fontconfig: cleaning cache directory\n",
            "/root/.cache/fontconfig: not cleaning non-existent cache directory\n",
            "/root/.fontconfig: not cleaning non-existent cache directory\n",
            "fc-cache: succeeded\n"
          ]
        }
      ]
    },
    {
      "cell_type": "code",
      "source": [
        "import matplotlib.pyplot as plt\n",
        "from wordcloud import WordCloud\n",
        "import numpy as np\n",
        "from PIL import Image"
      ],
      "metadata": {
        "id": "ag8A5saUPLnP"
      },
      "execution_count": null,
      "outputs": []
    },
    {
      "cell_type": "code",
      "source": [
        "from wordcloud import STOPWORDS\n",
        "# 추가할 불용어를 리스트 형태로 추가함."
      ],
      "metadata": {
        "id": "uvzyQTB4PXrc"
      },
      "execution_count": null,
      "outputs": []
    },
    {
      "cell_type": "code",
      "source": [
        "# 워드 클라우드 세팅\n",
        "# 한글폰트 경로 설정\n",
        "wc = WordCloud (max_words=50,\n",
        "           random_state= 810,\n",
        "           background_color='white',\n",
        "           font_path= '/usr/share/fonts/truetype/nanum/NanumMyeongjo.ttf'\n",
        "           )"
      ],
      "metadata": {
        "id": "TSfjx6NoPaxq"
      },
      "execution_count": null,
      "outputs": []
    },
    {
      "cell_type": "code",
      "source": [
        "wc = WordCloud (max_words=100,\n",
        "           background_color='white',\n",
        "           font_path= '/usr/share/fonts/truetype/nanum/NanumSquareR.ttf'\n",
        "           )\n",
        "wc.generate_from_frequencies(word_dict_negative)\n",
        "plt.figure(figsize=(8,8))\n",
        "plt.imshow(wc)\n",
        "plt.axis('off')\n",
        "plt.savefig('부정리뷰.png') #그림을 저장\n",
        "plt.show()"
      ],
      "metadata": {
        "colab": {
          "base_uri": "https://localhost:8080/",
          "height": 346
        },
        "id": "tOiDoh21Pd5l",
        "outputId": "ed82d9f6-9740-44b4-9f48-7bddffb0579c"
      },
      "execution_count": null,
      "outputs": [
        {
          "output_type": "display_data",
          "data": {
            "text/plain": [
              "<Figure size 800x800 with 1 Axes>"
            ],
            "image/png": "[encoded data removed]"
          },
          "metadata": {}
        }
      ]
    },
    {
      "cell_type": "code",
      "source": [
        "wc = WordCloud (max_words=100,\n",
        "           background_color='white',\n",
        "           font_path= '/usr/share/fonts/truetype/nanum/NanumSquareR.ttf'\n",
        "           )\n",
        "wc.generate_from_frequencies(word_dict_positive)\n",
        "plt.figure(figsize=(8,8))\n",
        "plt.imshow(wc)\n",
        "plt.axis('off')\n",
        "plt.savefig('긍정리뷰.png') #그림을 저장\n",
        "plt.show()"
      ],
      "metadata": {
        "colab": {
          "base_uri": "https://localhost:8080/",
          "height": 346
        },
        "id": "mlqa5WFpPyCu",
        "outputId": "269e0453-9bcf-49b0-fa76-ce1a50a2fa79"
      },
      "execution_count": null,
      "outputs": [
        {
          "output_type": "display_data",
          "data": {
            "text/plain": [
              "<Figure size 800x800 with 1 Axes>"
            ],
            "image/png": "[encoded data removed]"
          },
          "metadata": {}
        }
      ]
    }
  ]
}